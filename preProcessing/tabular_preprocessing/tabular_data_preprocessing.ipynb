{
 "cells": [
  {
   "cell_type": "markdown",
   "id": "cc44c019",
   "metadata": {},
   "source": [
    "## Import Libraries"
   ]
  },
  {
   "cell_type": "code",
   "execution_count": 1,
   "id": "ecb0af36",
   "metadata": {},
   "outputs": [],
   "source": [
    "import pandas as pd\n",
    "import numpy as np\n",
    "import re\n",
    "import math"
   ]
  },
  {
   "cell_type": "markdown",
   "id": "0936f2bd",
   "metadata": {},
   "source": [
    "## Read Excel File"
   ]
  },
  {
   "cell_type": "code",
   "execution_count": 2,
   "id": "44efbeb1",
   "metadata": {},
   "outputs": [
    {
     "name": "stdout",
     "output_type": "stream",
     "text": [
      "sheet：VA, total 4307 data\n",
      "sheet：SDoH, total 4537 data\n",
      "sheet：Demographics, total 60 data\n",
      "sheet：ICDs, total 3018 data\n",
      "sheet：annotations, total 114 data\n",
      "sheet：annotated_pats_list, total 113 data\n",
      "sheet：vol_wise_annotations, total 2704 data\n"
     ]
    }
   ],
   "source": [
    "process_data = 'ori'\n",
    "\n",
    "# Specify file path\n",
    "if process_data == 'new':\n",
    "    output_path = r\"vol_anno_new.xlsx\"\n",
    "    file_path = r\"final project\\tabular data\\new_data_tab_data.xlsx\"\n",
    "    annotations_path = r'new_data_tab_data_vol_stage_annotations.xlsx'\n",
    "elif process_data == 'ori':\n",
    "    output_path = r\"vol_anno_ori.xlsx\"\n",
    "    file_path = r\"final project\\tabular data\\tab_data_annotated_pats.xlsx\"\n",
    "    annotations_path = r'tab_data_annotated_pats_vol_stage_annotations.xlsx'\n",
    "\n",
    "# Read all sheets and store in a dictionary\n",
    "dfs_dict = pd.read_excel(file_path, sheet_name=None)\n",
    "\n",
    "# Print all sheet names and print data amount\n",
    "for sheet_name, df in dfs_dict.items():\n",
    "    print(f'sheet：{sheet_name}, total {len(df)} data')"
   ]
  },
  {
   "cell_type": "code",
   "execution_count": 3,
   "id": "bcc4db95",
   "metadata": {},
   "outputs": [],
   "source": [
    "# store each sheet into different df\n",
    "demo_df = dfs_dict['Demographics']\n",
    "va_df = dfs_dict['VA']\n",
    "if process_data == 'new':\n",
    "    com_df = dfs_dict['Comorbidities']\n",
    "elif process_data == 'ori':\n",
    "    com_df = dfs_dict['ICDs']\n",
    "sdoh_df = dfs_dict['SDoH']\n",
    "vol_df = dfs_dict['vol_wise_annotations']\n",
    "anno_df = pd.read_excel(annotations_path)"
   ]
  },
  {
   "cell_type": "code",
   "execution_count": 4,
   "id": "43a6f8f3",
   "metadata": {},
   "outputs": [
    {
     "name": "stdout",
     "output_type": "stream",
     "text": [
      "2704\n",
      "2600\n"
     ]
    }
   ],
   "source": [
    "print(len(vol_df))\n",
    "print(len(anno_df))"
   ]
  },
  {
   "cell_type": "markdown",
   "id": "3357c5a2",
   "metadata": {},
   "source": [
    "## Add Ages"
   ]
  },
  {
   "cell_type": "markdown",
   "id": "1a6abd67",
   "metadata": {},
   "source": [
    "### Extract Birthday"
   ]
  },
  {
   "cell_type": "code",
   "execution_count": 5,
   "id": "49d0dd5e",
   "metadata": {},
   "outputs": [
    {
     "name": "stdout",
     "output_type": "stream",
     "text": [
      "   research_id laterality baseline_stage  visit_date visit_date_dt stage  \\\n",
      "0         3162          L             GA    20080818    2008-08-18    GA   \n",
      "1         3162          L             GA    20090806    2009-08-06    GA   \n",
      "2         3162          L             GA    20100809    2010-08-09    GA   \n",
      "3         3162          L             GA    20110818    2011-08-18    GA   \n",
      "4         3162          L             GA    20120913    2012-09-13    GA   \n",
      "\n",
      "   BIRTH_DATE  \n",
      "0  1943-07-09  \n",
      "1  1943-07-09  \n",
      "2  1943-07-09  \n",
      "3  1943-07-09  \n",
      "4  1943-07-09  \n"
     ]
    }
   ],
   "source": [
    "# extract birthday\n",
    "birth_df = (\n",
    "    com_df[['PAT_MRN_ID', 'BIRTH_DATE']]\n",
    "    .drop_duplicates(subset='PAT_MRN_ID')\n",
    ")\n",
    "\n",
    "# merge on patient id and drop column\n",
    "final_df = anno_df.merge(\n",
    "    birth_df,\n",
    "    left_on='research_id',\n",
    "    right_on='PAT_MRN_ID',\n",
    "    how='left'\n",
    ").drop(columns=['PAT_MRN_ID'])\n",
    "\n",
    "# remove birthday time\n",
    "final_df['BIRTH_DATE'] = pd.to_datetime(final_df['BIRTH_DATE']).dt.date\n",
    "\n",
    "# check df\n",
    "print(final_df.head())"
   ]
  },
  {
   "cell_type": "code",
   "execution_count": 6,
   "id": "cd2c41c5",
   "metadata": {},
   "outputs": [
    {
     "name": "stdout",
     "output_type": "stream",
     "text": [
      "2600\n"
     ]
    }
   ],
   "source": [
    "print(len(final_df))"
   ]
  },
  {
   "cell_type": "markdown",
   "id": "20044afa",
   "metadata": {},
   "source": [
    "### Calculate Age"
   ]
  },
  {
   "cell_type": "code",
   "execution_count": 7,
   "id": "fad1832b",
   "metadata": {},
   "outputs": [
    {
     "name": "stdout",
     "output_type": "stream",
     "text": [
      "   research_id visit_date_dt BIRTH_DATE  AGE_AT_VISIT\n",
      "0         3162    2008-08-18 1943-07-09            65\n",
      "1         3162    2009-08-06 1943-07-09            66\n",
      "2         3162    2010-08-09 1943-07-09            67\n",
      "3         3162    2011-08-18 1943-07-09            68\n",
      "4         3162    2012-09-13 1943-07-09            69\n"
     ]
    }
   ],
   "source": [
    "# ensure both are datetime format\n",
    "final_df['BIRTH_DATE']    = pd.to_datetime(final_df['BIRTH_DATE'])\n",
    "final_df['visit_date_dt'] = pd.to_datetime(final_df['visit_date_dt'])\n",
    "\n",
    "# calcuate Ages\n",
    "final_df['AGE_AT_VISIT'] = (\n",
    "    final_df['visit_date_dt'].dt.year\n",
    "    - final_df['BIRTH_DATE'].dt.year\n",
    "    - (\n",
    "        (final_df['visit_date_dt'].dt.month < final_df['BIRTH_DATE'].dt.month)\n",
    "        | (\n",
    "            (final_df['visit_date_dt'].dt.month == final_df['BIRTH_DATE'].dt.month)\n",
    "            & (final_df['visit_date_dt'].dt.day < final_df['BIRTH_DATE'].dt.day)\n",
    "        )\n",
    "      ).astype(int)\n",
    ")\n",
    "# check df\n",
    "print(final_df[['research_id', 'visit_date_dt', 'BIRTH_DATE', 'AGE_AT_VISIT']].head())\n",
    "\n",
    "final_df = final_df.drop(columns=['BIRTH_DATE', 'time'], errors='ignore')"
   ]
  },
  {
   "cell_type": "code",
   "execution_count": 8,
   "id": "b8fd63b7",
   "metadata": {},
   "outputs": [
    {
     "name": "stdout",
     "output_type": "stream",
     "text": [
      "   research_id laterality baseline_stage  visit_date visit_date_dt stage  \\\n",
      "0         3162          L             GA    20080818    2008-08-18    GA   \n",
      "1         3162          L             GA    20090806    2009-08-06    GA   \n",
      "2         3162          L             GA    20100809    2010-08-09    GA   \n",
      "3         3162          L             GA    20110818    2011-08-18    GA   \n",
      "4         3162          L             GA    20120913    2012-09-13    GA   \n",
      "\n",
      "   AGE_AT_VISIT  \n",
      "0            65  \n",
      "1            66  \n",
      "2            67  \n",
      "3            68  \n",
      "4            69  \n",
      "2600\n"
     ]
    }
   ],
   "source": [
    "print(final_df.head())\n",
    "print(len(final_df))"
   ]
  },
  {
   "cell_type": "markdown",
   "id": "f7d6098a",
   "metadata": {},
   "source": [
    "## Add Gender"
   ]
  },
  {
   "cell_type": "code",
   "execution_count": 9,
   "id": "a8ec89d2",
   "metadata": {},
   "outputs": [
    {
     "name": "stdout",
     "output_type": "stream",
     "text": [
      "   research_id     SEX\n",
      "0         3162  Female\n",
      "1         3162  Female\n",
      "2         3162  Female\n",
      "3         3162  Female\n",
      "4         3162  Female\n"
     ]
    }
   ],
   "source": [
    "# extract gender column\n",
    "sex_df = demo_df[['PAT_MRN_ID', 'SEX']]\n",
    "\n",
    "# merge data\n",
    "final_df = final_df.merge(\n",
    "    sex_df,\n",
    "    left_on='research_id',\n",
    "    right_on='PAT_MRN_ID',\n",
    "    how='left'\n",
    ")\n",
    "\n",
    "# drop additional columns\n",
    "final_df = final_df.drop(columns=['PAT_MRN_ID'])\n",
    "\n",
    "# check df\n",
    "print(final_df[['research_id', 'SEX']].head())"
   ]
  },
  {
   "cell_type": "code",
   "execution_count": 10,
   "id": "88c54606",
   "metadata": {},
   "outputs": [
    {
     "name": "stdout",
     "output_type": "stream",
     "text": [
      "   research_id laterality baseline_stage  visit_date visit_date_dt stage  \\\n",
      "0         3162          L             GA    20080818    2008-08-18    GA   \n",
      "1         3162          L             GA    20090806    2009-08-06    GA   \n",
      "2         3162          L             GA    20100809    2010-08-09    GA   \n",
      "3         3162          L             GA    20110818    2011-08-18    GA   \n",
      "4         3162          L             GA    20120913    2012-09-13    GA   \n",
      "\n",
      "   AGE_AT_VISIT     SEX  \n",
      "0            65  Female  \n",
      "1            66  Female  \n",
      "2            67  Female  \n",
      "3            68  Female  \n",
      "4            69  Female  \n",
      "2600\n"
     ]
    }
   ],
   "source": [
    "print(final_df.head())\n",
    "print(len(final_df))"
   ]
  },
  {
   "cell_type": "markdown",
   "id": "21cc4349",
   "metadata": {},
   "source": [
    "## Add VA"
   ]
  },
  {
   "cell_type": "markdown",
   "id": "635278e2",
   "metadata": {},
   "source": [
    "### Extract VA"
   ]
  },
  {
   "cell_type": "code",
   "execution_count": null,
   "id": "37ea2d46",
   "metadata": {},
   "outputs": [
    {
     "name": "stdout",
     "output_type": "stream",
     "text": [
      "共有 883 筆因 exact match 失敗而使用最近日期的 VA 填充。\n",
      "   research_id visit_date_dt matched_CONTACT_DATE_exact  \\\n",
      "0         3162    2008-08-18                        NaT   \n",
      "1         3162    2009-08-06                        NaT   \n",
      "2         3162    2010-08-09                        NaT   \n",
      "3         3162    2011-08-18                        NaT   \n",
      "4         3162    2012-09-13                        NaT   \n",
      "\n",
      "  matched_CONTACT_DATE_final VA_exact VA_final  \n",
      "0                 2008-10-30      NaN  20/70-2  \n",
      "1                 2008-10-30      NaN  20/70-2  \n",
      "2                 2008-10-30      NaN  20/70-2  \n",
      "3                 2013-03-14      NaN    20/50  \n",
      "4                 2013-03-14      NaN    20/50  \n"
     ]
    }
   ],
   "source": [
    "# First use the dates to match VA. If no matching dates, use the cloeset date\n",
    "\n",
    "va_sub = va_df[['PAT_MRN_ID', 'Laterality', 'CONTACT_DATE', 'VA']].copy()\n",
    "va_sub['CONTACT_DATE'] = pd.to_datetime(va_sub['CONTACT_DATE'])\n",
    "\n",
    "# ensure final_df has visit_date_dt and VA_LATERALITY\n",
    "final_df['visit_date_dt'] = pd.to_datetime(final_df['visit_date_dt'])\n",
    "final_df['VA_LATERALITY'] = final_df['laterality'].map({'L':'OS', 'R':'OD'})\n",
    "final_df['orig_idx'] = final_df.index\n",
    "\n",
    "# match by date\n",
    "exact_match = final_df.merge(\n",
    "    va_sub,\n",
    "    left_on=['research_id', 'VA_LATERALITY', 'visit_date_dt'],\n",
    "    right_on=['PAT_MRN_ID',     'Laterality',  'CONTACT_DATE'],\n",
    "    how='left',\n",
    "    suffixes=('','_exact')\n",
    ")\n",
    "final_df['VA_exact']                   = exact_match['VA']\n",
    "final_df['matched_CONTACT_DATE_exact'] = exact_match['CONTACT_DATE']\n",
    "final_df['exact_date_match']           = final_df['VA_exact'].notna()\n",
    "\n",
    "# if not match, use the closet date\n",
    "merged_nearest = final_df.merge(\n",
    "    va_sub,\n",
    "    left_on=['research_id', 'VA_LATERALITY'],\n",
    "    right_on=['PAT_MRN_ID',     'Laterality'],\n",
    "    how='left'\n",
    ")\n",
    "merged_nearest['date_diff'] = (merged_nearest['visit_date_dt'] - merged_nearest['CONTACT_DATE']).abs()\n",
    "closest = (\n",
    "    merged_nearest\n",
    "    .sort_values(['orig_idx', 'date_diff'])\n",
    "    .groupby('orig_idx', as_index=False)\n",
    "    .first()\n",
    ")\n",
    "final_df['VA_nearest']                    = closest.set_index('orig_idx')['VA']\n",
    "final_df['matched_CONTACT_DATE_nearest']  = closest.set_index('orig_idx')['CONTACT_DATE']\n",
    "\n",
    "# merge dataframe\n",
    "final_df['VA_final']                      = final_df['VA_exact'].fillna(final_df['VA_nearest'])\n",
    "final_df['matched_CONTACT_DATE_final']    = final_df['matched_CONTACT_DATE_exact'].fillna(final_df['matched_CONTACT_DATE_nearest'])\n",
    "\n",
    "# check number of exact match\n",
    "n_fallback = final_df['VA_exact'].isna().sum()\n",
    "print(f\"total: {n_fallback} using closest date\")\n",
    "\n",
    "# clean support columns\n",
    "final_df = final_df.drop(columns=[\n",
    "    'PAT_MRN_ID',\n",
    "    'Laterality',\n",
    "    'orig_idx',\n",
    "    'VA_nearest',\n",
    "    'matched_CONTACT_DATE_nearest'\n",
    "], errors='ignore')\n",
    "\n",
    "# check results\n",
    "print(final_df[[\n",
    "    'research_id','visit_date_dt',\n",
    "    'matched_CONTACT_DATE_exact','matched_CONTACT_DATE_final',\n",
    "    'VA_exact', 'VA_final'\n",
    "]].head())"
   ]
  },
  {
   "cell_type": "markdown",
   "id": "77cf8755",
   "metadata": {},
   "source": [
    "### Check NA for VA"
   ]
  },
  {
   "cell_type": "code",
   "execution_count": null,
   "id": "afdf3eb7",
   "metadata": {},
   "outputs": [
    {
     "name": "stdout",
     "output_type": "stream",
     "text": [
      "VA_final 空值數：\n",
      "60\n",
      "matched_CONTACT_DATE_final 空值數：\n",
      "60\n",
      "\n",
      "每個欄位的空值數：\n",
      "research_id                     0\n",
      "laterality                      0\n",
      "baseline_stage                 12\n",
      "visit_date                      0\n",
      "visit_date_dt                   0\n",
      "stage                           1\n",
      "AGE_AT_VISIT                    0\n",
      "SEX                             0\n",
      "VA_LATERALITY                   0\n",
      "VA_exact                      883\n",
      "matched_CONTACT_DATE_exact    879\n",
      "exact_date_match                0\n",
      "VA_final                       60\n",
      "matched_CONTACT_DATE_final     60\n",
      "dtype: int64\n",
      "\n",
      "整張表有 895 列至少有一個欄位是空值。\n"
     ]
    }
   ],
   "source": [
    "print(\"VA_final nulls：\")\n",
    "print(final_df['VA_final'].isnull().sum())\n",
    "print(\"matched_CONTACT_DATE_final nulls：\")\n",
    "print(final_df['matched_CONTACT_DATE_final'].isnull().sum())\n",
    "\n",
    "# check nulls for whole df\n",
    "print(\"\\n nulls of each columns：\")\n",
    "print(final_df.isnull().sum())\n",
    "\n",
    "# check nulls by rows\n",
    "n_rows_with_na = final_df.isnull().any(axis=1).sum()\n",
    "print(f\"\\n total {n_rows_with_na} rows contain at least one null\")\n"
   ]
  },
  {
   "cell_type": "markdown",
   "id": "2ebe947e",
   "metadata": {},
   "source": [
    "### Find patient without VA record"
   ]
  },
  {
   "cell_type": "code",
   "execution_count": null,
   "id": "7fa83783",
   "metadata": {},
   "outputs": [
    {
     "name": "stdout",
     "output_type": "stream",
     "text": [
      "      research_id laterality  visit_date visit_date_dt\n",
      "445      75416083          L    20171115    2017-11-15\n",
      "446      75416083          L    20180801    2018-08-01\n",
      "447      75416083          L    20181219    2018-12-19\n",
      "448      75416083          L    20190412    2019-04-12\n",
      "449      75416083          L    20200115    2020-01-15\n",
      "450      75416083          L    20210303    2021-03-03\n",
      "451      75416083          L    20210409    2021-04-09\n",
      "452      75416083          L    20210709    2021-07-09\n",
      "453      75416083          L    20210813    2021-08-13\n",
      "454      75416083          L    20211029    2021-10-29\n",
      "455      75416083          L    20220325    2022-03-25\n",
      "456      75416083          L    20220527    2022-05-27\n",
      "457      75416083          L    20220729    2022-07-29\n",
      "458      75416083          L    20221209    2022-12-09\n",
      "709      75518400          L    20161213    2016-12-13\n",
      "710      75518400          L    20170417    2017-04-17\n",
      "711      75518400          L    20170818    2017-08-18\n",
      "712      75518400          L    20171218    2017-12-18\n",
      "713      75518400          L    20180424    2018-04-24\n",
      "714      75518400          L    20180828    2018-08-28\n",
      "715      75518400          L    20190219    2019-02-19\n",
      "716      75518400          L    20190702    2019-07-02\n",
      "717      75518400          L    20191105    2019-11-05\n",
      "718      75518400          L    20200317    2020-03-17\n",
      "719      75518400          L    20200929    2020-09-29\n",
      "720      75518400          L    20210330    2021-03-30\n",
      "721      75518400          L    20211005    2021-10-05\n",
      "722      75518400          L    20220405    2022-04-05\n",
      "723      75518400          L    20220906    2022-09-06\n",
      "724      75518400          L    20230124    2023-01-24\n",
      "725      75518400          R    20161213    2016-12-13\n",
      "726      75518400          R    20170417    2017-04-17\n",
      "727      75518400          R    20170818    2017-08-18\n",
      "728      75518400          R    20171218    2017-12-18\n",
      "729      75518400          R    20180424    2018-04-24\n",
      "730      75518400          R    20180828    2018-08-28\n",
      "731      75518400          R    20190219    2019-02-19\n",
      "732      75518400          R    20190702    2019-07-02\n",
      "733      75518400          R    20191105    2019-11-05\n",
      "734      75518400          R    20200317    2020-03-17\n",
      "735      75518400          R    20200929    2020-09-29\n",
      "736      75518400          R    20210330    2021-03-30\n",
      "737      75518400          R    20211005    2021-10-05\n",
      "738      75518400          R    20220405    2022-04-05\n",
      "739      75518400          R    20220906    2022-09-06\n",
      "740      75518400          R    20230124    2023-01-24\n",
      "2322    738638125          L    20140618    2014-06-18\n",
      "2323    738638125          L    20141231    2014-12-31\n",
      "2324    738638125          L    20150805    2015-08-05\n",
      "2325    738638125          L    20151230    2015-12-30\n",
      "2326    738638125          L    20160817    2016-08-17\n",
      "2327    738638125          L    20170614    2017-06-14\n",
      "2328    738638125          L    20180614    2018-06-14\n",
      "2329    738638125          R    20140618    2014-06-18\n",
      "2330    738638125          R    20141231    2014-12-31\n",
      "2331    738638125          R    20150805    2015-08-05\n",
      "2332    738638125          R    20151230    2015-12-30\n",
      "2333    738638125          R    20160817    2016-08-17\n",
      "2334    738638125          R    20170614    2017-06-14\n",
      "2335    738638125          R    20180614    2018-06-14\n"
     ]
    }
   ],
   "source": [
    "missing_va_df = final_df[final_df['VA_final'].isna()]\n",
    "\n",
    "print(missing_va_df[[\n",
    "    'research_id',\n",
    "    'laterality',\n",
    "    'visit_date',\n",
    "    'visit_date_dt'\n",
    "]])\n",
    "\n"
   ]
  },
  {
   "cell_type": "code",
   "execution_count": 14,
   "id": "62579b48",
   "metadata": {},
   "outputs": [
    {
     "name": "stdout",
     "output_type": "stream",
     "text": [
      "   research_id laterality baseline_stage  visit_date visit_date_dt stage  \\\n",
      "0         3162          L             GA    20080818    2008-08-18    GA   \n",
      "1         3162          L             GA    20090806    2009-08-06    GA   \n",
      "2         3162          L             GA    20100809    2010-08-09    GA   \n",
      "3         3162          L             GA    20110818    2011-08-18    GA   \n",
      "4         3162          L             GA    20120913    2012-09-13    GA   \n",
      "\n",
      "   AGE_AT_VISIT     SEX VA_LATERALITY VA_exact matched_CONTACT_DATE_exact  \\\n",
      "0            65  Female            OS      NaN                        NaT   \n",
      "1            66  Female            OS      NaN                        NaT   \n",
      "2            67  Female            OS      NaN                        NaT   \n",
      "3            68  Female            OS      NaN                        NaT   \n",
      "4            69  Female            OS      NaN                        NaT   \n",
      "\n",
      "   exact_date_match VA_final matched_CONTACT_DATE_final  \n",
      "0             False  20/70-2                 2008-10-30  \n",
      "1             False  20/70-2                 2008-10-30  \n",
      "2             False  20/70-2                 2008-10-30  \n",
      "3             False    20/50                 2013-03-14  \n",
      "4             False    20/50                 2013-03-14  \n"
     ]
    }
   ],
   "source": [
    "print(final_df.head())"
   ]
  },
  {
   "cell_type": "markdown",
   "id": "f2a390f2",
   "metadata": {},
   "source": [
    "### Convert to Continuous Data"
   ]
  },
  {
   "cell_type": "code",
   "execution_count": 15,
   "id": "4de8fb91",
   "metadata": {},
   "outputs": [
    {
     "name": "stdout",
     "output_type": "stream",
     "text": [
      "failed VA_final conversion： [' ' '20/-100-1']\n",
      "  VA_final  VA_continuous\n",
      "0  20/70-2       0.584068\n",
      "1  20/70-2       0.584068\n",
      "2  20/70-2       0.584068\n",
      "3    20/50       0.397940\n",
      "4    20/50       0.397940\n"
     ]
    }
   ],
   "source": [
    "def parse_va_string(va_str):\n",
    "    '''\n",
    "    function to convert va to continuous\n",
    "    input: the string format VA_final data\n",
    "    '''\n",
    "    if pd.isna(va_str):\n",
    "        return None\n",
    "    s = va_str.strip().upper().replace(\"’\", \"'\")\n",
    "    # A) CF @ face or CF@face → 1 ft\n",
    "    if re.search(r'CF.*FACE', s):\n",
    "        dist = 1.0\n",
    "    # B) CF at N' → N ft\n",
    "    elif (m := re.match(r\"CF\\s*(?:@|AT)?\\s*(\\d+(?:\\.\\d+)?)'\", s)):\n",
    "        dist = float(m.group(1))\n",
    "    # C) CF N inches → N/12 ft\n",
    "    elif (m2 := re.match(r\"CF.*?(\\d+)\\s*INCH\", s)):\n",
    "        inches = float(m2.group(1))\n",
    "        dist = inches / 12.0\n",
    "    # D) CF @ Nft or CF@Nft\n",
    "    elif (m3 := re.match(r\"CF\\s*@?\\s*(\\d+(?:\\.\\d+)?)\\s*FT\", s)):\n",
    "        dist = float(m3.group(1))\n",
    "    # convert to logMAR\n",
    "    if 'dist' in locals():\n",
    "        if dist >= 6:    return math.log10(2000/20)\n",
    "        if dist >= 5:    return math.log10(1600/20)\n",
    "        if dist >= 4:    return math.log10(1200/20)\n",
    "        if dist >= 3:    return math.log10(800/20)\n",
    "        if dist >= 2:    return math.log10(600/20)\n",
    "        if dist >= 1:    return math.log10(400/20)\n",
    "        return math.log10(2000/20)\n",
    "\n",
    "    # E) if starts with CF →  1 ft\n",
    "    if s.startswith(\"CF\"):\n",
    "        return math.log10(400/20)\n",
    "\n",
    "    # F) Special: HM, LP, NLP\n",
    "    special = {\n",
    "        \"HM\":  math.log10(20000/20),\n",
    "        \"LP\":  math.log10(40000/20),\n",
    "        \"NLP\": math.log10(100000/20),\n",
    "    }\n",
    "    for key, val in special.items():\n",
    "        if key in s:\n",
    "            return val\n",
    "\n",
    "    # G) Standard Snellen with +/- adjustment\n",
    "    if (m4 := re.match(r\"20/(\\d+)([+-]\\d+)?\", s)):\n",
    "        denom = int(m4.group(1))\n",
    "        logmar = math.log10(denom/20)\n",
    "        adj = m4.group(2)\n",
    "        if adj:\n",
    "            # each +1 or -1 adjust 0.02\n",
    "            logmar -= int(adj) * 0.02\n",
    "        return logmar\n",
    "\n",
    "    # Fail to convert\n",
    "    return None\n",
    "\n",
    "# check fail cases\n",
    "fails = final_df.loc[\n",
    "    final_df['VA_final'].notna() &\n",
    "    final_df['VA_final'].apply(lambda x: parse_va_string(x) is None),\n",
    "    'VA_final'\n",
    "].unique()\n",
    "print(\"failed VA_final conversion：\", fails)\n",
    "\n",
    "# add VA_continuous\n",
    "final_df['VA_continuous'] = final_df['VA_final'].apply(parse_va_string)\n",
    "\n",
    "# check df\n",
    "print(final_df[['VA_final', 'VA_continuous']].head())"
   ]
  },
  {
   "cell_type": "code",
   "execution_count": null,
   "id": "f3bf2197",
   "metadata": {},
   "outputs": [
    {
     "name": "stdout",
     "output_type": "stream",
     "text": [
      "      research_id laterality  visit_date visit_date_dt\n",
      "445      75416083          L    20171115    2017-11-15\n",
      "446      75416083          L    20180801    2018-08-01\n",
      "447      75416083          L    20181219    2018-12-19\n",
      "448      75416083          L    20190412    2019-04-12\n",
      "449      75416083          L    20200115    2020-01-15\n",
      "...           ...        ...         ...           ...\n",
      "2331    738638125          R    20150805    2015-08-05\n",
      "2332    738638125          R    20151230    2015-12-30\n",
      "2333    738638125          R    20160817    2016-08-17\n",
      "2334    738638125          R    20170614    2017-06-14\n",
      "2335    738638125          R    20180614    2018-06-14\n",
      "\n",
      "[78 rows x 4 columns]\n"
     ]
    }
   ],
   "source": [
    "final_df = final_df.drop(columns=[\n",
    "    'VA_final',\n",
    "    'VA_exact',\n",
    "    'VA_LATERALITY',\n",
    "    'matched_CONTACT_DATE_exact',\n",
    "    'matched_CONTACT_DATE_final'\n",
    "], errors='ignore')\n",
    "\n",
    "missing_va_df = final_df[final_df['VA_continuous'].isna()]\n",
    "\n",
    "print(missing_va_df[[\n",
    "    'research_id',\n",
    "    'laterality',\n",
    "    'visit_date',\n",
    "    'visit_date_dt'\n",
    "]])"
   ]
  },
  {
   "cell_type": "code",
   "execution_count": 17,
   "id": "164f447c",
   "metadata": {},
   "outputs": [
    {
     "name": "stdout",
     "output_type": "stream",
     "text": [
      "   research_id laterality baseline_stage  visit_date visit_date_dt stage  \\\n",
      "0         3162          L             GA    20080818    2008-08-18    GA   \n",
      "1         3162          L             GA    20090806    2009-08-06    GA   \n",
      "2         3162          L             GA    20100809    2010-08-09    GA   \n",
      "3         3162          L             GA    20110818    2011-08-18    GA   \n",
      "4         3162          L             GA    20120913    2012-09-13    GA   \n",
      "\n",
      "   AGE_AT_VISIT     SEX  exact_date_match  VA_continuous  \n",
      "0            65  Female             False       0.584068  \n",
      "1            66  Female             False       0.584068  \n",
      "2            67  Female             False       0.584068  \n",
      "3            68  Female             False       0.397940  \n",
      "4            69  Female             False       0.397940  \n",
      "2600\n"
     ]
    }
   ],
   "source": [
    "print(final_df.head())\n",
    "print(len(final_df))"
   ]
  },
  {
   "cell_type": "markdown",
   "id": "c0786a7b",
   "metadata": {},
   "source": [
    "## Add Primary Diagnosis and ICD10"
   ]
  },
  {
   "cell_type": "code",
   "execution_count": 18,
   "id": "b75b97e6",
   "metadata": {},
   "outputs": [
    {
     "name": "stdout",
     "output_type": "stream",
     "text": [
      "   research_id visit_date_dt matched_CONTACT_DATE_dx PRIMARY_DX_YN  \\\n",
      "0         3162    2008-08-18     2008-08-17 20:00:00             N   \n",
      "1         3162    2009-08-06     2009-05-12 20:00:00             N   \n",
      "2         3162    2010-08-09     2009-11-30 19:00:00             N   \n",
      "3         3162    2011-08-18     2011-08-16 20:00:00             N   \n",
      "4         3162    2012-09-13     2012-08-15 20:00:00             Y   \n",
      "\n",
      "  CURRENT_ICD10_LIST  \n",
      "0             H35.81  \n",
      "1       N18.9, D63.1  \n",
      "2                Z23  \n",
      "3              R05.9  \n",
      "4              R01.1  \n"
     ]
    }
   ],
   "source": [
    "# prepare sub-df of com\n",
    "com_sub = com_df[['PAT_MRN_ID', 'CONTACT_DATE', 'PRIMARY_DX_YN', 'CURRENT_ICD10_LIST']].copy()\n",
    "com_sub['CONTACT_DATE'] = pd.to_datetime(com_sub['CONTACT_DATE'])\n",
    "\n",
    "final_df['visit_date_dt'] = pd.to_datetime(final_df['visit_date_dt'])\n",
    "final_df['orig_idx_dx'] = final_df.index\n",
    "\n",
    "# merge dx record\n",
    "merged_dx = final_df.merge(\n",
    "    com_sub,\n",
    "    left_on='research_id',\n",
    "    right_on='PAT_MRN_ID',\n",
    "    how='left'\n",
    ")\n",
    "\n",
    "# calculate closest date\n",
    "merged_dx['date_diff_dx'] = (merged_dx['visit_date_dt'] - merged_dx['CONTACT_DATE']).abs()\n",
    "\n",
    "# find closest date\n",
    "closest_dx = (\n",
    "    merged_dx\n",
    "    .sort_values(['orig_idx_dx', 'date_diff_dx'])\n",
    "    .groupby('orig_idx_dx', as_index=False)\n",
    "    .first()\n",
    ")\n",
    "\n",
    "final_df['PRIMARY_DX_YN']         = closest_dx.set_index('orig_idx_dx')['PRIMARY_DX_YN']\n",
    "final_df['CURRENT_ICD10_LIST']    = closest_dx.set_index('orig_idx_dx')['CURRENT_ICD10_LIST']\n",
    "final_df['matched_CONTACT_DATE_dx']= closest_dx.set_index('orig_idx_dx')['CONTACT_DATE']\n",
    "\n",
    "# drop column\n",
    "final_df = final_df.drop(columns=['orig_idx_dx'])\n",
    "\n",
    "# check df\n",
    "print(final_df[[\n",
    "    'research_id', \n",
    "    'visit_date_dt', \n",
    "    'matched_CONTACT_DATE_dx', \n",
    "    'PRIMARY_DX_YN', \n",
    "    'CURRENT_ICD10_LIST'\n",
    "]].head())"
   ]
  },
  {
   "cell_type": "markdown",
   "id": "8eb7a6e9",
   "metadata": {},
   "source": [
    "### ICD Parent Code"
   ]
  },
  {
   "cell_type": "code",
   "execution_count": null,
   "id": "b1d6c3c9",
   "metadata": {},
   "outputs": [
    {
     "name": "stdout",
     "output_type": "stream",
     "text": [
      "   research_id  visit_date CURRENT_ICD10_LIST ICD_primary\n",
      "0         3162    20080818             H35.81         H35\n",
      "1         3162    20090806       N18.9, D63.1         N18\n",
      "2         3162    20100809                Z23         Z23\n",
      "3         3162    20110818              R05.9         R05\n",
      "4         3162    20120913              R01.1         R01\n",
      "5         3162    20131016              N18.4         N18\n",
      "6         3162    20140703              N18.4         N18\n",
      "7         3162    20150827              H40.9         H40\n",
      "8         3162    20160609           H40.1232         H40\n",
      "9         3162    20180801           H40.1233         H40\n"
     ]
    }
   ],
   "source": [
    "import pandas as pd\n",
    "\n",
    "\n",
    "def extract_primary_icd(icd_str):\n",
    "    \"\"\"\n",
    "    1. multiple ICD10 codes are separated by comma.\n",
    "    2. remove all AMD-related ICD10 code (begin with 'H35.3')\n",
    "    3. use the first ICD10 code if multiple codes exit\n",
    "    4. only keep the parent(main) code\n",
    "\n",
    "    \"\"\"\n",
    "    if pd.isna(icd_str):\n",
    "        return None\n",
    "    # store in list\n",
    "    codes = [c.strip() for c in icd_str.split(',') if c.strip()]\n",
    "    if not codes:\n",
    "        return None\n",
    "    # remove all AMD-related ICD10 code (begin with 'H35.3')\n",
    "    non_amd = [c for c in codes if not c.upper().startswith('H35.3')]\n",
    "    # \n",
    "    selected = non_amd if non_amd else codes\n",
    "    # use the first icd10 code\n",
    "    main_full = selected[0]\n",
    "    # return the main code\n",
    "    return main_full.split('.')[0]\n",
    "\n",
    "# create 'ICD_primary' column\n",
    "final_df['ICD_primary'] = final_df['CURRENT_ICD10_LIST'].apply(extract_primary_icd)\n",
    "\n",
    "# check results\n",
    "print(final_df[[\n",
    "    'research_id',\n",
    "    'visit_date',\n",
    "    'CURRENT_ICD10_LIST',\n",
    "    'ICD_primary'\n",
    "]].head(10))\n"
   ]
  },
  {
   "cell_type": "code",
   "execution_count": 20,
   "id": "3285f70a",
   "metadata": {},
   "outputs": [
    {
     "name": "stdout",
     "output_type": "stream",
     "text": [
      "2600\n"
     ]
    }
   ],
   "source": [
    "print(len(final_df))"
   ]
  },
  {
   "cell_type": "markdown",
   "id": "c17eaf1d",
   "metadata": {},
   "source": [
    "### Plot Distribution"
   ]
  },
  {
   "cell_type": "code",
   "execution_count": null,
   "id": "8e7631ec",
   "metadata": {},
   "outputs": [
    {
     "data": {
      "image/png": "[encoded data removed]",
      "text/plain": [
       "<Figure size 1000x600 with 1 Axes>"
      ]
     },
     "metadata": {},
     "output_type": "display_data"
    }
   ],
   "source": [
    "import matplotlib.pyplot as plt\n",
    "\n",
    "# calculate icd10 frequency\n",
    "counts = final_df['ICD_primary'].value_counts()\n",
    "\n",
    "# bar plot\n",
    "plt.figure(figsize=(10, 6))\n",
    "plt.bar(counts.index, counts.values)\n",
    "plt.xticks(rotation=90)               \n",
    "plt.title('Distribution of ICD_primary')\n",
    "plt.xlabel('ICD_primary')\n",
    "plt.ylabel('Count')\n",
    "plt.tight_layout()            \n",
    "plt.show()\n"
   ]
  },
  {
   "cell_type": "markdown",
   "id": "b3488e3d",
   "metadata": {},
   "source": []
  },
  {
   "cell_type": "markdown",
   "id": "1b351d2a",
   "metadata": {},
   "source": [
    "## Add Habits"
   ]
  },
  {
   "cell_type": "code",
   "execution_count": null,
   "id": "bc2f67de",
   "metadata": {},
   "outputs": [
    {
     "name": "stdout",
     "output_type": "stream",
     "text": [
      "   research_id visit_date_dt matched_CONTACT_DATE_sdoh_final  \\\n",
      "0         3162    2008-08-18                      2008-08-18   \n",
      "1         3162    2009-08-06                      2008-08-18   \n",
      "2         3162    2010-08-09                      2009-08-06   \n",
      "3         3162    2011-08-18                      2010-08-09   \n",
      "4         3162    2012-09-13                      2011-08-18   \n",
      "\n",
      "  CIGARETTES_YN_final SMOKING_TOB_USE_NAME_final SMOKELESS_TOB_USE_NAME_final  \\\n",
      "0                   N                      Never                      Unknown   \n",
      "1                   N                      Never                      Unknown   \n",
      "2                   N                      Never                      Unknown   \n",
      "3                   N                      Never                      Unknown   \n",
      "4                   N                      Never                        Never   \n",
      "\n",
      "  TOBACCO_USER_NAME_final ALCOHOL_USE_NAME_final ILL_DRUG_USER_NAME_final  \n",
      "0                   Never                     No                       No  \n",
      "1                   Never                     No                       No  \n",
      "2                   Never                     No                       No  \n",
      "3                   Never                     No                       No  \n",
      "4                   Never                     No                       No  \n",
      "2600\n"
     ]
    }
   ],
   "source": [
    "# 1. prepare sdoh sub-dataframe\n",
    "sdoh_cols = [\n",
    "    'CIGARETTES_YN','SMOKING_TOB_USE_NAME','SMOKELESS_TOB_USE_NAME',\n",
    "    'TOBACCO_USER_NAME','ALCOHOL_USE_NAME','ILL_DRUG_USER_NAME'\n",
    "]\n",
    "sdoh_sub = sdoh_df[['PAT_MRN_ID', 'CONTACT_DATE'] + sdoh_cols].copy()\n",
    "sdoh_sub['CONTACT_DATE'] = pd.to_datetime(sdoh_sub['CONTACT_DATE']) # keep UTC timezone\n",
    "\n",
    "# 2. convert final_df's visit_date_dt into UTC timezone\n",
    "final_df['visit_date_dt']   = pd.to_datetime(final_df['visit_date_dt']).dt.tz_localize('UTC')\n",
    "final_df['orig_idx_sdoh']   = final_df.index\n",
    "\n",
    "# 3. match by date\n",
    "exact = final_df.merge(\n",
    "    sdoh_sub,\n",
    "    left_on=['research_id', 'visit_date_dt'],\n",
    "    right_on=['PAT_MRN_ID',  'CONTACT_DATE'],\n",
    "    how='left',\n",
    "    suffixes=('','_exact')\n",
    ")\n",
    "for col in sdoh_cols:\n",
    "    final_df[f'{col}_exact'] = exact[col]\n",
    "final_df['matched_CONTACT_DATE_exact_sdoh'] = exact['CONTACT_DATE']\n",
    "\n",
    "# 4. if not match, use the closet date\n",
    "nearest = final_df.merge(\n",
    "    sdoh_sub,\n",
    "    left_on=['research_id'],\n",
    "    right_on=['PAT_MRN_ID'],\n",
    "    how='left',\n",
    "    suffixes=('','_nearest')\n",
    ")\n",
    "nearest['date_diff_sdoh'] = (nearest['visit_date_dt'] - nearest['CONTACT_DATE']).abs()\n",
    "closest = (\n",
    "    nearest\n",
    "    .sort_values(['orig_idx_sdoh', 'date_diff_sdoh'])\n",
    "    .groupby('orig_idx_sdoh', as_index=False)\n",
    "    .first()\n",
    ")\n",
    "for col in sdoh_cols:\n",
    "    final_df[f'{col}_nearest'] = closest.set_index('orig_idx_sdoh')[col]\n",
    "final_df['matched_CONTACT_DATE_nearest_sdoh'] = closest.set_index('orig_idx_sdoh')['CONTACT_DATE']\n",
    "\n",
    "# 5. merge dataframe\n",
    "for col in sdoh_cols:\n",
    "    final_df[f'{col}_final'] = (\n",
    "        final_df[f'{col}_exact']\n",
    "        .fillna(final_df[f'{col}_nearest'])\n",
    "    )\n",
    "final_df['matched_CONTACT_DATE_sdoh_final'] = (\n",
    "    final_df['matched_CONTACT_DATE_exact_sdoh']\n",
    "    .fillna(final_df['matched_CONTACT_DATE_nearest_sdoh'])\n",
    ")\n",
    "\n",
    "# 6. clean support dataframe\n",
    "drops = [\n",
    "    'PAT_MRN_ID','orig_idx_sdoh',\n",
    "    'matched_CONTACT_DATE_exact_sdoh','matched_CONTACT_DATE_nearest_sdoh',\n",
    "    'date_diff_sdoh'\n",
    "] + [f'{col}_exact' for col in sdoh_cols] + [f'{col}_nearest' for col in sdoh_cols]\n",
    "final_df = final_df.drop(columns=[c for c in drops if c in final_df.columns])\n",
    "\n",
    "# convert datetime\n",
    "final_df['visit_date_dt'] = (\n",
    "    pd.to_datetime(final_df['visit_date_dt'])\n",
    "      .dt.tz_localize(None)  \n",
    "      .dt.date              \n",
    ")\n",
    "final_df['matched_CONTACT_DATE_sdoh_final'] = (\n",
    "    pd.to_datetime(final_df['matched_CONTACT_DATE_sdoh_final'])\n",
    "      .dt.tz_localize(None)\n",
    "      .dt.date\n",
    ")\n",
    "\n",
    "# 7. check results\n",
    "print(final_df[[\n",
    "    'research_id','visit_date_dt','matched_CONTACT_DATE_sdoh_final'\n",
    "] + [f'{col}_final' for col in sdoh_cols]].head())\n",
    "print(len(final_df))"
   ]
  },
  {
   "cell_type": "markdown",
   "id": "4eaff84e",
   "metadata": {},
   "source": [
    "## Save DF"
   ]
  },
  {
   "cell_type": "code",
   "execution_count": 23,
   "id": "a4c6285a",
   "metadata": {},
   "outputs": [],
   "source": [
    "final_df = final_df.drop(columns=['exact_date_match', 'matched_CONTACT_DATE_dx', 'matched_CONTACT_DATE_sdoh_final'])"
   ]
  },
  {
   "cell_type": "code",
   "execution_count": 24,
   "id": "5489c213",
   "metadata": {},
   "outputs": [
    {
     "name": "stdout",
     "output_type": "stream",
     "text": [
      "Index(['research_id', 'laterality', 'baseline_stage', 'visit_date',\n",
      "       'visit_date_dt', 'stage', 'AGE_AT_VISIT', 'SEX', 'VA_continuous',\n",
      "       'PRIMARY_DX_YN', 'CURRENT_ICD10_LIST', 'ICD_primary',\n",
      "       'CIGARETTES_YN_final', 'SMOKING_TOB_USE_NAME_final',\n",
      "       'SMOKELESS_TOB_USE_NAME_final', 'TOBACCO_USER_NAME_final',\n",
      "       'ALCOHOL_USE_NAME_final', 'ILL_DRUG_USER_NAME_final'],\n",
      "      dtype='object')\n"
     ]
    }
   ],
   "source": [
    "print(final_df.columns)"
   ]
  },
  {
   "cell_type": "code",
   "execution_count": 25,
   "id": "f2b4fc50",
   "metadata": {},
   "outputs": [
    {
     "name": "stdout",
     "output_type": "stream",
     "text": [
      "   research_id laterality baseline_stage  visit_date visit_date_dt stage  \\\n",
      "0         3162          L             GA    20080818    2008-08-18    GA   \n",
      "1         3162          L             GA    20090806    2009-08-06    GA   \n",
      "2         3162          L             GA    20100809    2010-08-09    GA   \n",
      "3         3162          L             GA    20110818    2011-08-18    GA   \n",
      "4         3162          L             GA    20120913    2012-09-13    GA   \n",
      "\n",
      "   AGE_AT_VISIT     SEX  VA_continuous PRIMARY_DX_YN CURRENT_ICD10_LIST  \\\n",
      "0            65  Female       0.584068             N             H35.81   \n",
      "1            66  Female       0.584068             N       N18.9, D63.1   \n",
      "2            67  Female       0.584068             N                Z23   \n",
      "3            68  Female       0.397940             N              R05.9   \n",
      "4            69  Female       0.397940             Y              R01.1   \n",
      "\n",
      "  ICD_primary CIGARETTES_YN_final SMOKING_TOB_USE_NAME_final  \\\n",
      "0         H35                   N                      Never   \n",
      "1         N18                   N                      Never   \n",
      "2         Z23                   N                      Never   \n",
      "3         R05                   N                      Never   \n",
      "4         R01                   N                      Never   \n",
      "\n",
      "  SMOKELESS_TOB_USE_NAME_final TOBACCO_USER_NAME_final ALCOHOL_USE_NAME_final  \\\n",
      "0                      Unknown                   Never                     No   \n",
      "1                      Unknown                   Never                     No   \n",
      "2                      Unknown                   Never                     No   \n",
      "3                      Unknown                   Never                     No   \n",
      "4                        Never                   Never                     No   \n",
      "\n",
      "  ILL_DRUG_USER_NAME_final  \n",
      "0                       No  \n",
      "1                       No  \n",
      "2                       No  \n",
      "3                       No  \n",
      "4                       No  \n"
     ]
    }
   ],
   "source": [
    "print(final_df.head())"
   ]
  },
  {
   "cell_type": "code",
   "execution_count": 26,
   "id": "47467462",
   "metadata": {},
   "outputs": [],
   "source": [
    "final_df.to_excel(output_path, index=False)"
   ]
  },
  {
   "cell_type": "markdown",
   "id": "1d323b34",
   "metadata": {},
   "source": []
  }
 ],
 "metadata": {
  "kernelspec": {
   "display_name": "pytorch_20241014",
   "language": "python",
   "name": "python3"
  },
  "language_info": {
   "codemirror_mode": {
    "name": "ipython",
    "version": 3
   },
   "file_extension": ".py",
   "mimetype": "text/x-python",
   "name": "python",
   "nbconvert_exporter": "python",
   "pygments_lexer": "ipython3",
   "version": "3.10.15"
  }
 },
 "nbformat": 4,
 "nbformat_minor": 5
}
